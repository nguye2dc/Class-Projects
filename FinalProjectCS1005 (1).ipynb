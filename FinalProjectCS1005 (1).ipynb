{
  "nbformat": 4,
  "nbformat_minor": 0,
  "metadata": {
    "colab": {
      "provenance": [],
      "toc_visible": true
    },
    "kernelspec": {
      "name": "python3",
      "display_name": "Python 3"
    },
    "language_info": {
      "name": "python"
    }
  },
  "cells": [
    {
      "cell_type": "markdown",
      "source": [
        "#1. Loading Data and Pre-processing"
      ],
      "metadata": {
        "id": "o75zma2-9T_T"
      }
    },
    {
      "cell_type": "code",
      "execution_count": 1,
      "metadata": {
        "id": "S9FO0Irc_ObW"
      },
      "outputs": [],
      "source": [
        "import csv"
      ]
    },
    {
      "cell_type": "code",
      "source": [
        "WeatherData= \"/content/MinimumWage.csv\""
      ],
      "metadata": {
        "id": "p2zYmglnJJTf"
      },
      "execution_count": 2,
      "outputs": []
    },
    {
      "cell_type": "code",
      "source": [
        "with open(WeatherData) as csv_file:\n",
        "  csv_reader = csv.reader(csv_file, delimiter = \",\")\n",
        "  line_count = 0\n",
        "  Data = []\n",
        "  for row in csv_reader:\n",
        "    if line_count ==0:\n",
        "      Header=row\n",
        "    else:\n",
        "      Data.append(row)\n",
        "    line_count = line_count + 1\n"
      ],
      "metadata": {
        "id": "pzdZgDUNzVVu"
      },
      "execution_count": 3,
      "outputs": []
    },
    {
      "cell_type": "code",
      "source": [
        "#print(Header)"
      ],
      "metadata": {
        "id": "eeURysQmjsTa"
      },
      "execution_count": 4,
      "outputs": []
    },
    {
      "cell_type": "code",
      "source": [
        "Data_dict={}\n",
        "for name in Header:\n",
        "  Data_dict[name]=[]\n",
        "\n",
        "print(Data_dict)"
      ],
      "metadata": {
        "colab": {
          "base_uri": "https://localhost:8080/"
        },
        "id": "0fGGRmpslRx5",
        "outputId": "261e983d-a45a-42a2-f779-32216a601d15"
      },
      "execution_count": 5,
      "outputs": [
        {
          "output_type": "stream",
          "name": "stdout",
          "text": [
            "{'Year': [], 'FederalMinimumWage': [], 'MeanAnnualInflation': [], 'MinWageIndexedLastRaiseYear': [], 'UnemploymentRateDecember': [], 'GDP_AnnualGrowth': []}\n"
          ]
        }
      ]
    },
    {
      "cell_type": "code",
      "source": [
        "for i in Data:\n",
        "  idx=0\n",
        "  for j in Header:\n",
        "    if j ==\"Year\":\n",
        "      Data_dict[j].append(i[idx])\n",
        "    elif j==\"FederalMinimumWage\" or j==\"MeanAnnualInflation\" or j==\"UnemploymentRateDecember\" or j==\"GDP_AnnualGrowth\":\n",
        "      Data_dict[j].append(float(i[idx].strip(\"$\").strip(\"%\")))\n",
        "    else:\n",
        "      Data_dict[j].append(None)\n",
        "    idx=idx+1\n"
      ],
      "metadata": {
        "id": "fDCLkiwt5Kb1"
      },
      "execution_count": 6,
      "outputs": []
    },
    {
      "cell_type": "code",
      "source": [
        "Data_dict[\"Bin\"]=[]"
      ],
      "metadata": {
        "id": "vS6oZp2ehlq0"
      },
      "execution_count": 7,
      "outputs": []
    },
    {
      "cell_type": "code",
      "source": [
        "for i in Data_dict['GDP_AnnualGrowth']:\n",
        "  if float(i) > -15 and float(i) <= 0:\n",
        "    Data_dict['Bin'].append(\"0\")\n",
        "  elif float(i) > 0 and float(i) < 10:\n",
        "    Data_dict['Bin'].append(\"1\")\n",
        "  else:\n",
        "    Data_dict['Bin'].append(\"2\")\n",
        "  "
      ],
      "metadata": {
        "id": "O601fuHi53M0"
      },
      "execution_count": 8,
      "outputs": []
    },
    {
      "cell_type": "code",
      "source": [
        "print(Data_dict)"
      ],
      "metadata": {
        "colab": {
          "base_uri": "https://localhost:8080/"
        },
        "id": "JBZFDpUDiwVl",
        "outputId": "a0acd9fd-8c45-4d28-f69d-2d296e81abfa"
      },
      "execution_count": 9,
      "outputs": [
        {
          "output_type": "stream",
          "name": "stdout",
          "text": [
            "{'Year': ['1930', '1931', '1932', '1933', '1934', '1935', '1936', '1937', '1938', '1939', '1940', '1941', '1942', '1943', '1944', '1945', '1946', '1947', '1948', '1949', '1950', '1951', '1952', '1953', '1954', '1955', '1956', '1957', '1958', '1959', '1960', '1961', '1962', '1963', '1964', '1965', '1966', '1967', '1968', '1969', '1970', '1971', '1972', '1973', '1974', '1975', '1976', '1977', '1978', '1979', '1980', '1981', '1982', '1983', '1984', '1985', '1986', '1987', '1988', '1989', '1990', '1991', '1992', '1993', '1994', '1995', '1996', '1997', '1998', '1999', '2000', '2001', '2002', '2003', '2004', '2005', '2006', '2007', '2008', '2009', '2010', '2011', '2012', '2013', '2014', '2015', '2016', '2017', '2018', '2019', '2020'], 'FederalMinimumWage': [0.0, 0.0, 0.0, 0.0, 0.0, 0.0, 0.0, 0.0, 0.25, 0.3, 0.3, 0.3, 0.3, 0.3, 0.3, 0.4, 0.4, 0.4, 0.4, 0.4, 0.75, 0.75, 0.75, 0.75, 0.75, 0.75, 1.0, 1.0, 1.0, 1.0, 1.0, 1.15, 1.15, 1.25, 1.25, 1.25, 1.25, 1.4, 1.6, 1.6, 1.6, 1.6, 1.6, 1.6, 2.0, 2.1, 2.3, 2.3, 2.65, 2.9, 3.1, 3.35, 3.35, 3.35, 3.35, 3.35, 3.35, 3.35, 3.35, 3.35, 3.8, 4.25, 4.25, 4.25, 4.25, 4.25, 4.75, 5.15, 5.15, 5.15, 5.15, 5.15, 5.15, 5.15, 5.15, 5.15, 5.15, 5.85, 6.55, 7.25, 7.25, 7.25, 7.25, 7.25, 7.25, 7.25, 7.25, 7.25, 7.25, 7.25, 7.25], 'MeanAnnualInflation': [-2.3, -9.0, -9.9, -5.1, 3.1, 2.2, 1.5, 3.6, -2.1, -1.4, 0.7, 5.0, 10.9, 6.1, 1.7, 2.3, 8.3, 14.4, 8.1, -1.2, 1.3, 7.9, 1.9, 0.8, 0.7, -0.4, 1.5, 3.3, 2.8, 0.7, 1.7, 1.0, 1.0, 1.3, 1.3, 1.6, 2.9, 3.1, 4.2, 5.5, 5.7, 4.4, 3.2, 6.2, 11.0, 9.1, 5.8, 6.5, 7.6, 11.3, 13.5, 10.3, 6.2, 3.2, 4.3, 3.6, 1.9, 3.6, 4.1, 4.8, 5.4, 4.2, 3.0, 3.0, 2.6, 2.8, 3.0, 2.3, 1.6, 2.2, 3.4, 2.8, 1.6, 2.3, 2.7, 3.4, 3.2, 2.8, 3.8, -0.4, 1.6, 3.2, 2.1, 1.5, 1.6, 0.1, 1.3, 2.1, 2.4, 1.8, 1.2], 'MinWageIndexedLastRaiseYear': [None, None, None, None, None, None, None, None, None, None, None, None, None, None, None, None, None, None, None, None, None, None, None, None, None, None, None, None, None, None, None, None, None, None, None, None, None, None, None, None, None, None, None, None, None, None, None, None, None, None, None, None, None, None, None, None, None, None, None, None, None, None, None, None, None, None, None, None, None, None, None, None, None, None, None, None, None, None, None, None, None, None, None, None, None, None, None, None, None, None, None], 'UnemploymentRateDecember': [8.7, 15.9, 23.6, 24.9, 21.7, 20.1, 16.9, 14.3, 19.0, 17.2, 14.6, 9.9, 4.7, 1.9, 1.2, 1.9, 3.9, 3.6, 4.0, 6.6, 4.3, 3.1, 2.7, 4.5, 5.0, 4.2, 4.2, 5.2, 6.2, 5.3, 6.6, 6.0, 5.5, 5.5, 5.0, 4.0, 3.8, 3.8, 3.4, 3.5, 6.1, 6.0, 5.2, 4.9, 7.2, 8.2, 7.8, 6.4, 6.0, 6.0, 7.2, 8.5, 10.8, 8.3, 7.3, 7.0, 6.6, 5.7, 5.3, 5.4, 6.3, 7.3, 7.4, 6.5, 5.5, 5.6, 5.4, 4.7, 4.4, 4.0, 3.9, 5.7, 6.0, 5.7, 5.4, 4.9, 4.4, 5.0, 7.3, 9.9, 9.3, 8.5, 7.9, 6.7, 5.6, 5.0, 4.7, 4.1, 3.9, 3.6, 6.7], 'GDP_AnnualGrowth': [-8.5, -6.4, -12.9, -1.2, 10.8, 8.9, 12.9, 5.1, -3.3, 8.0, 8.8, 17.7, 18.9, 17.0, 8.0, -1.0, -11.6, -1.1, 4.1, -0.6, 8.7, 8.0, 4.1, 4.7, -0.6, 7.1, 2.1, 2.1, -0.7, 6.9, 2.6, 2.6, 6.1, 4.4, 5.8, 6.5, 6.6, 2.7, 4.9, 3.1, 0.2, 3.3, 5.3, 5.6, -0.5, -0.2, 5.4, 4.6, 5.5, 3.2, -0.3, 2.5, -1.8, 4.6, 7.2, 4.2, 3.5, 3.5, 4.2, 3.7, 1.9, -0.1, 3.5, 2.8, 4.0, 2.7, 3.8, 4.4, 4.5, 4.8, 4.1, 1.0, 1.7, 2.8, 3.9, 3.5, 2.8, 2.0, 0.1, -2.6, 2.7, 1.5, 2.3, 1.8, 2.3, 2.7, 1.7, 2.3, 2.9, 2.3, -3.4], 'Bin': ['0', '0', '0', '0', '2', '1', '2', '1', '0', '1', '1', '2', '2', '2', '1', '0', '0', '0', '1', '0', '1', '1', '1', '1', '0', '1', '1', '1', '0', '1', '1', '1', '1', '1', '1', '1', '1', '1', '1', '1', '1', '1', '1', '1', '0', '0', '1', '1', '1', '1', '0', '1', '0', '1', '1', '1', '1', '1', '1', '1', '1', '0', '1', '1', '1', '1', '1', '1', '1', '1', '1', '1', '1', '1', '1', '1', '1', '1', '1', '0', '1', '1', '1', '1', '1', '1', '1', '1', '1', '1', '0']}\n"
          ]
        }
      ]
    },
    {
      "cell_type": "markdown",
      "source": [
        "#2. Raw Plots"
      ],
      "metadata": {
        "id": "jkECDB8S7Pwg"
      }
    },
    {
      "cell_type": "code",
      "source": [
        "from matplotlib import pyplot as plt"
      ],
      "metadata": {
        "id": "6Q3UsyYZtChz"
      },
      "execution_count": 10,
      "outputs": []
    },
    {
      "cell_type": "code",
      "source": [
        "plt.plot(Data_dict[\"FederalMinimumWage\"])\n",
        "plt.grid()"
      ],
      "metadata": {
        "colab": {
          "base_uri": "https://localhost:8080/",
          "height": 265
        },
        "id": "nk1UveoguNBW",
        "outputId": "a87ceb2f-afd3-471e-e5db-aa98d6ebcbd7"
      },
      "execution_count": 11,
      "outputs": [
        {
          "output_type": "display_data",
          "data": {
            "text/plain": [
              "<Figure size 432x288 with 1 Axes>"
            ],
            "image/png": "[encoded data removed]"
          },
          "metadata": {
            "needs_background": "light"
          }
        }
      ]
    },
    {
      "cell_type": "code",
      "source": [
        "plt.bar(Data_dict[\"GDP_AnnualGrowth\"],Data_dict[\"Year\"])\n"
      ],
      "metadata": {
        "colab": {
          "base_uri": "https://localhost:8080/",
          "height": 283
        },
        "id": "I7-qo24dxBqj",
        "outputId": "3fe14bcc-f342-45c7-ce0e-4c5cbd9b0e38"
      },
      "execution_count": 12,
      "outputs": [
        {
          "output_type": "execute_result",
          "data": {
            "text/plain": [
              "<BarContainer object of 91 artists>"
            ]
          },
          "metadata": {},
          "execution_count": 12
        },
        {
          "output_type": "display_data",
          "data": {
            "text/plain": [
              "<Figure size 432x288 with 1 Axes>"
            ],
            "image/png": "[encoded data removed]"
          },
          "metadata": {
            "needs_background": "light"
          }
        }
      ]
    },
    {
      "cell_type": "markdown",
      "source": [
        "#3. Compute Statistics based on aggregated data"
      ],
      "metadata": {
        "id": "HOO5DZ7F9awQ"
      }
    },
    {
      "cell_type": "markdown",
      "source": [
        "the latest year in each bin(most recent)(sort the year),\n",
        "avg of unemployment each bin,\n",
        "count of record in each bin,"
      ],
      "metadata": {
        "id": "bAS9R7oPZoLr"
      }
    },
    {
      "cell_type": "markdown",
      "source": [
        "I created 3 bins : 0,1,2 and that the conditions are if GDP Annual Growth is more than -15% and and less than or equals to 0, put in bin 0, if GDP Annual Growth is more than 0 and less than 10%, put in bin 1 and everything else, put in bin 2"
      ],
      "metadata": {
        "id": "glotk8B24C8X"
      }
    },
    {
      "cell_type": "code",
      "source": [
        "sortedYear={}\n",
        "for i in [0,1,2]:\n",
        "  sortedYear[i]=[]"
      ],
      "metadata": {
        "id": "X2p3gECSorAw"
      },
      "execution_count": 13,
      "outputs": []
    },
    {
      "cell_type": "code",
      "source": [
        "sortedUnemploy={}\n",
        "for i in [0,1,2]:\n",
        "  sortedUnemploy[i]=[]"
      ],
      "metadata": {
        "id": "KgNjIz2lP4TO"
      },
      "execution_count": 14,
      "outputs": []
    },
    {
      "cell_type": "code",
      "source": [
        "idx = 0\n",
        "for i in Data_dict[\"Bin\"]:\n",
        "  if i ==\"0\":\n",
        "    sortedYear[0].append(Data_dict[\"Year\"][idx])\n",
        "  elif i ==\"1\":\n",
        "    sortedYear[1].append(Data_dict[\"Year\"][idx])\n",
        "  else:\n",
        "    sortedYear[2].append(Data_dict[\"Year\"][idx])\n",
        "  idx = idx +1\n"
      ],
      "metadata": {
        "id": "gZG-GrQqED4q"
      },
      "execution_count": 15,
      "outputs": []
    },
    {
      "cell_type": "code",
      "source": [
        "index = 0\n",
        "for i in Data_dict[\"Bin\"]:\n",
        "  if i ==\"0\":\n",
        "    sortedUnemploy[0].append(Data_dict[\"UnemploymentRateDecember\"][index])\n",
        "  elif i ==\"1\":\n",
        "    sortedUnemploy[1].append(Data_dict[\"UnemploymentRateDecember\"][index])\n",
        "  else:\n",
        "    sortedUnemploy[2].append(Data_dict[\"UnemploymentRateDecember\"][index])\n",
        "  index = index +1"
      ],
      "metadata": {
        "id": "dY4e2Tq4RVUb"
      },
      "execution_count": 16,
      "outputs": []
    },
    {
      "cell_type": "code",
      "source": [
        "#latest year in bin 0 and count of record in bin 0 and avg unemployment\n",
        "print(\"Latest year is\",max(sortedYear[0]))\n",
        "print(\"There are\",len(sortedYear[0]),\"records in bin 0\")\n",
        "print (\"Avg unemployment rate is\",sum(sortedUnemploy[0])/len(sortedUnemploy[0]))"
      ],
      "metadata": {
        "colab": {
          "base_uri": "https://localhost:8080/"
        },
        "id": "5rhrNibUL1iU",
        "outputId": "523dbdc0-9478-49f2-8861-ffc6c5b57cde"
      },
      "execution_count": 17,
      "outputs": [
        {
          "output_type": "stream",
          "name": "stdout",
          "text": [
            "Latest year is 2020\n",
            "There are 18 records in bin 0\n",
            "Avg unemployment rate is 9.81111111111111\n"
          ]
        }
      ]
    },
    {
      "cell_type": "code",
      "source": [
        "#latest year in bin 1\n",
        "print(\"Latest year is\",max(sortedYear[1]))\n",
        "print(\"There are\",len(sortedYear[1]),\"records in bin 1\")\n",
        "print (\"Avg unemployment rate is\",sum(sortedUnemploy[1])/len(sortedUnemploy[1]))"
      ],
      "metadata": {
        "colab": {
          "base_uri": "https://localhost:8080/"
        },
        "id": "EkibGOrIPQ-u",
        "outputId": "5f6e3155-1090-49b6-9ab3-810592e7668f"
      },
      "execution_count": 18,
      "outputs": [
        {
          "output_type": "stream",
          "name": "stdout",
          "text": [
            "Latest year is 2019\n",
            "There are 68 records in bin 1\n",
            "Avg unemployment rate is 6.057352941176469\n"
          ]
        }
      ]
    },
    {
      "cell_type": "code",
      "source": [
        "#latest year in bin 2\n",
        "print(\"Latest year is\",max(sortedYear[2]))\n",
        "print(\"There are\",len(sortedYear[2]),\"records in bin 2\")\n",
        "print (\"Avg unemployment rate is\",sum(sortedUnemploy[2])/len(sortedUnemploy[2]))"
      ],
      "metadata": {
        "colab": {
          "base_uri": "https://localhost:8080/"
        },
        "id": "HC5EZlFJPX4I",
        "outputId": "ec4722ea-dec1-4512-ca67-810346a6b65f"
      },
      "execution_count": 19,
      "outputs": [
        {
          "output_type": "stream",
          "name": "stdout",
          "text": [
            "Latest year is 1943\n",
            "There are 5 records in bin 2\n",
            "Avg unemployment rate is 11.02\n"
          ]
        }
      ]
    },
    {
      "cell_type": "code",
      "source": [
        "aveunemploybin2 = sum(sortedUnemploy[2])/len(sortedUnemploy[2])\n",
        "aveunemploybin1 = sum(sortedUnemploy[1])/len(sortedUnemploy[1])\n",
        "aveunemploybin0 = sum(sortedUnemploy[0])/len(sortedUnemploy[0])"
      ],
      "metadata": {
        "id": "jyjJWHgs1VeT"
      },
      "execution_count": 43,
      "outputs": []
    },
    {
      "cell_type": "code",
      "source": [
        "count0= len(sortedYear[0])\n",
        "count1= len(sortedYear[1])\n",
        "count2= len(sortedYear[2])"
      ],
      "metadata": {
        "id": "qNZGVXUF6KKC"
      },
      "execution_count": 51,
      "outputs": []
    },
    {
      "cell_type": "markdown",
      "source": [
        "#Summary Plot"
      ],
      "metadata": {
        "id": "YQAKvFuLrTnN"
      }
    },
    {
      "cell_type": "code",
      "source": [
        "plt.scatter([0,1,2],[aveunemploybin0,aveunemploybin1,aveunemploybin2])\n",
        "plt.grid()"
      ],
      "metadata": {
        "colab": {
          "base_uri": "https://localhost:8080/",
          "height": 265
        },
        "id": "2IQCWxa33kMP",
        "outputId": "3724b289-6cbe-4489-881d-827ac3225e0b"
      },
      "execution_count": 49,
      "outputs": [
        {
          "output_type": "display_data",
          "data": {
            "text/plain": [
              "<Figure size 432x288 with 1 Axes>"
            ],
            "image/png": "[encoded data removed]"
          },
          "metadata": {
            "needs_background": "light"
          }
        }
      ]
    },
    {
      "cell_type": "code",
      "source": [
        "plt.scatter([0,1,2],[count0,count1,count2])\n",
        "plt.grid()"
      ],
      "metadata": {
        "colab": {
          "base_uri": "https://localhost:8080/",
          "height": 266
        },
        "id": "LAOPFlTItoqV",
        "outputId": "eaf3c902-a684-4926-e6eb-cac5d2ff2b44"
      },
      "execution_count": 54,
      "outputs": [
        {
          "output_type": "display_data",
          "data": {
            "text/plain": [
              "<Figure size 432x288 with 1 Axes>"
            ],
            "image/png": "[encoded data removed]"
          },
          "metadata": {
            "needs_background": "light"
          }
        }
      ]
    },
    {
      "cell_type": "markdown",
      "source": [
        "#Compute with Pandas"
      ],
      "metadata": {
        "id": "O6IEhd2Bq-0L"
      }
    },
    {
      "cell_type": "code",
      "source": [
        "import numpy as np\n",
        "import pandas as pd"
      ],
      "metadata": {
        "id": "pXANctq7rDU0"
      },
      "execution_count": 20,
      "outputs": []
    },
    {
      "cell_type": "code",
      "source": [
        "DF=pd.DataFrame(Data_dict)"
      ],
      "metadata": {
        "id": "CmvnTT7PrXhD"
      },
      "execution_count": 21,
      "outputs": []
    },
    {
      "cell_type": "code",
      "source": [
        "DF"
      ],
      "metadata": {
        "colab": {
          "base_uri": "https://localhost:8080/",
          "height": 424
        },
        "id": "EZnErt87r4w_",
        "outputId": "fb9c8b32-820a-476a-9653-38c4043c1d2f"
      },
      "execution_count": 22,
      "outputs": [
        {
          "output_type": "execute_result",
          "data": {
            "text/plain": [
              "    Year  FederalMinimumWage  MeanAnnualInflation MinWageIndexedLastRaiseYear  \\\n",
              "0   1930                0.00                 -2.3                        None   \n",
              "1   1931                0.00                 -9.0                        None   \n",
              "2   1932                0.00                 -9.9                        None   \n",
              "3   1933                0.00                 -5.1                        None   \n",
              "4   1934                0.00                  3.1                        None   \n",
              "..   ...                 ...                  ...                         ...   \n",
              "86  2016                7.25                  1.3                        None   \n",
              "87  2017                7.25                  2.1                        None   \n",
              "88  2018                7.25                  2.4                        None   \n",
              "89  2019                7.25                  1.8                        None   \n",
              "90  2020                7.25                  1.2                        None   \n",
              "\n",
              "    UnemploymentRateDecember  GDP_AnnualGrowth Bin  \n",
              "0                        8.7              -8.5   0  \n",
              "1                       15.9              -6.4   0  \n",
              "2                       23.6             -12.9   0  \n",
              "3                       24.9              -1.2   0  \n",
              "4                       21.7              10.8   2  \n",
              "..                       ...               ...  ..  \n",
              "86                       4.7               1.7   1  \n",
              "87                       4.1               2.3   1  \n",
              "88                       3.9               2.9   1  \n",
              "89                       3.6               2.3   1  \n",
              "90                       6.7              -3.4   0  \n",
              "\n",
              "[91 rows x 7 columns]"
            ],
            "text/html": [
              "\n",
              "  <div id=\"df-12e9b6d6-4456-4e64-bd48-55832c43f1c2\">\n",
              "    <div class=\"colab-df-container\">\n",
              "      <div>\n",
              "<style scoped>\n",
              "    .dataframe tbody tr th:only-of-type {\n",
              "        vertical-align: middle;\n",
              "    }\n",
              "\n",
              "    .dataframe tbody tr th {\n",
              "        vertical-align: top;\n",
              "    }\n",
              "\n",
              "    .dataframe thead th {\n",
              "        text-align: right;\n",
              "    }\n",
              "</style>\n",
              "<table border=\"1\" class=\"dataframe\">\n",
              "  <thead>\n",
              "    <tr style=\"text-align: right;\">\n",
              "      <th></th>\n",
              "      <th>Year</th>\n",
              "      <th>FederalMinimumWage</th>\n",
              "      <th>MeanAnnualInflation</th>\n",
              "      <th>MinWageIndexedLastRaiseYear</th>\n",
              "      <th>UnemploymentRateDecember</th>\n",
              "      <th>GDP_AnnualGrowth</th>\n",
              "      <th>Bin</th>\n",
              "    </tr>\n",
              "  </thead>\n",
              "  <tbody>\n",
              "    <tr>\n",
              "      <th>0</th>\n",
              "      <td>1930</td>\n",
              "      <td>0.00</td>\n",
              "      <td>-2.3</td>\n",
              "      <td>None</td>\n",
              "      <td>8.7</td>\n",
              "      <td>-8.5</td>\n",
              "      <td>0</td>\n",
              "    </tr>\n",
              "    <tr>\n",
              "      <th>1</th>\n",
              "      <td>1931</td>\n",
              "      <td>0.00</td>\n",
              "      <td>-9.0</td>\n",
              "      <td>None</td>\n",
              "      <td>15.9</td>\n",
              "      <td>-6.4</td>\n",
              "      <td>0</td>\n",
              "    </tr>\n",
              "    <tr>\n",
              "      <th>2</th>\n",
              "      <td>1932</td>\n",
              "      <td>0.00</td>\n",
              "      <td>-9.9</td>\n",
              "      <td>None</td>\n",
              "      <td>23.6</td>\n",
              "      <td>-12.9</td>\n",
              "      <td>0</td>\n",
              "    </tr>\n",
              "    <tr>\n",
              "      <th>3</th>\n",
              "      <td>1933</td>\n",
              "      <td>0.00</td>\n",
              "      <td>-5.1</td>\n",
              "      <td>None</td>\n",
              "      <td>24.9</td>\n",
              "      <td>-1.2</td>\n",
              "      <td>0</td>\n",
              "    </tr>\n",
              "    <tr>\n",
              "      <th>4</th>\n",
              "      <td>1934</td>\n",
              "      <td>0.00</td>\n",
              "      <td>3.1</td>\n",
              "      <td>None</td>\n",
              "      <td>21.7</td>\n",
              "      <td>10.8</td>\n",
              "      <td>2</td>\n",
              "    </tr>\n",
              "    <tr>\n",
              "      <th>...</th>\n",
              "      <td>...</td>\n",
              "      <td>...</td>\n",
              "      <td>...</td>\n",
              "      <td>...</td>\n",
              "      <td>...</td>\n",
              "      <td>...</td>\n",
              "      <td>...</td>\n",
              "    </tr>\n",
              "    <tr>\n",
              "      <th>86</th>\n",
              "      <td>2016</td>\n",
              "      <td>7.25</td>\n",
              "      <td>1.3</td>\n",
              "      <td>None</td>\n",
              "      <td>4.7</td>\n",
              "      <td>1.7</td>\n",
              "      <td>1</td>\n",
              "    </tr>\n",
              "    <tr>\n",
              "      <th>87</th>\n",
              "      <td>2017</td>\n",
              "      <td>7.25</td>\n",
              "      <td>2.1</td>\n",
              "      <td>None</td>\n",
              "      <td>4.1</td>\n",
              "      <td>2.3</td>\n",
              "      <td>1</td>\n",
              "    </tr>\n",
              "    <tr>\n",
              "      <th>88</th>\n",
              "      <td>2018</td>\n",
              "      <td>7.25</td>\n",
              "      <td>2.4</td>\n",
              "      <td>None</td>\n",
              "      <td>3.9</td>\n",
              "      <td>2.9</td>\n",
              "      <td>1</td>\n",
              "    </tr>\n",
              "    <tr>\n",
              "      <th>89</th>\n",
              "      <td>2019</td>\n",
              "      <td>7.25</td>\n",
              "      <td>1.8</td>\n",
              "      <td>None</td>\n",
              "      <td>3.6</td>\n",
              "      <td>2.3</td>\n",
              "      <td>1</td>\n",
              "    </tr>\n",
              "    <tr>\n",
              "      <th>90</th>\n",
              "      <td>2020</td>\n",
              "      <td>7.25</td>\n",
              "      <td>1.2</td>\n",
              "      <td>None</td>\n",
              "      <td>6.7</td>\n",
              "      <td>-3.4</td>\n",
              "      <td>0</td>\n",
              "    </tr>\n",
              "  </tbody>\n",
              "</table>\n",
              "<p>91 rows × 7 columns</p>\n",
              "</div>\n",
              "      <button class=\"colab-df-convert\" onclick=\"convertToInteractive('df-12e9b6d6-4456-4e64-bd48-55832c43f1c2')\"\n",
              "              title=\"Convert this dataframe to an interactive table.\"\n",
              "              style=\"display:none;\">\n",
              "        \n",
              "  <svg xmlns=\"http://www.w3.org/2000/svg\" height=\"24px\"viewBox=\"0 0 24 24\"\n",
              "       width=\"24px\">\n",
              "    <path d=\"M0 0h24v24H0V0z\" fill=\"none\"/>\n",
              "    <path d=\"M18.56 5.44l.94 2.06.94-2.06 2.06-.94-2.06-.94-.94-2.06-.94 2.06-2.06.94zm-11 1L8.5 8.5l.94-2.06 2.06-.94-2.06-.94L8.5 2.5l-.94 2.06-2.06.94zm10 10l.94 2.06.94-2.06 2.06-.94-2.06-.94-.94-2.06-.94 2.06-2.06.94z\"/><path d=\"M17.41 7.96l-1.37-1.37c-.4-.4-.92-.59-1.43-.59-.52 0-1.04.2-1.43.59L10.3 9.45l-7.72 7.72c-.78.78-.78 2.05 0 2.83L4 21.41c.39.39.9.59 1.41.59.51 0 1.02-.2 1.41-.59l7.78-7.78 2.81-2.81c.8-.78.8-2.07 0-2.86zM5.41 20L4 18.59l7.72-7.72 1.47 1.35L5.41 20z\"/>\n",
              "  </svg>\n",
              "      </button>\n",
              "      \n",
              "  <style>\n",
              "    .colab-df-container {\n",
              "      display:flex;\n",
              "      flex-wrap:wrap;\n",
              "      gap: 12px;\n",
              "    }\n",
              "\n",
              "    .colab-df-convert {\n",
              "      background-color: #E8F0FE;\n",
              "      border: none;\n",
              "      border-radius: 50%;\n",
              "      cursor: pointer;\n",
              "      display: none;\n",
              "      fill: #1967D2;\n",
              "      height: 32px;\n",
              "      padding: 0 0 0 0;\n",
              "      width: 32px;\n",
              "    }\n",
              "\n",
              "    .colab-df-convert:hover {\n",
              "      background-color: #E2EBFA;\n",
              "      box-shadow: 0px 1px 2px rgba(60, 64, 67, 0.3), 0px 1px 3px 1px rgba(60, 64, 67, 0.15);\n",
              "      fill: #174EA6;\n",
              "    }\n",
              "\n",
              "    [theme=dark] .colab-df-convert {\n",
              "      background-color: #3B4455;\n",
              "      fill: #D2E3FC;\n",
              "    }\n",
              "\n",
              "    [theme=dark] .colab-df-convert:hover {\n",
              "      background-color: #434B5C;\n",
              "      box-shadow: 0px 1px 3px 1px rgba(0, 0, 0, 0.15);\n",
              "      filter: drop-shadow(0px 1px 2px rgba(0, 0, 0, 0.3));\n",
              "      fill: #FFFFFF;\n",
              "    }\n",
              "  </style>\n",
              "\n",
              "      <script>\n",
              "        const buttonEl =\n",
              "          document.querySelector('#df-12e9b6d6-4456-4e64-bd48-55832c43f1c2 button.colab-df-convert');\n",
              "        buttonEl.style.display =\n",
              "          google.colab.kernel.accessAllowed ? 'block' : 'none';\n",
              "\n",
              "        async function convertToInteractive(key) {\n",
              "          const element = document.querySelector('#df-12e9b6d6-4456-4e64-bd48-55832c43f1c2');\n",
              "          const dataTable =\n",
              "            await google.colab.kernel.invokeFunction('convertToInteractive',\n",
              "                                                     [key], {});\n",
              "          if (!dataTable) return;\n",
              "\n",
              "          const docLinkHtml = 'Like what you see? Visit the ' +\n",
              "            '<a target=\"_blank\" href=https://colab.research.google.com/notebooks/data_table.ipynb>data table notebook</a>'\n",
              "            + ' to learn more about interactive tables.';\n",
              "          element.innerHTML = '';\n",
              "          dataTable['output_type'] = 'display_data';\n",
              "          await google.colab.output.renderOutput(dataTable, element);\n",
              "          const docLink = document.createElement('div');\n",
              "          docLink.innerHTML = docLinkHtml;\n",
              "          element.appendChild(docLink);\n",
              "        }\n",
              "      </script>\n",
              "    </div>\n",
              "  </div>\n",
              "  "
            ]
          },
          "metadata": {},
          "execution_count": 22
        }
      ]
    },
    {
      "cell_type": "code",
      "source": [
        "DF.groupby(\"Bin\")[\"UnemploymentRateDecember\"].mean().round(2)"
      ],
      "metadata": {
        "colab": {
          "base_uri": "https://localhost:8080/"
        },
        "id": "vtYN53iTsJ-o",
        "outputId": "14ccca00-3f46-480e-c83b-220cb253ec5c"
      },
      "execution_count": 23,
      "outputs": [
        {
          "output_type": "execute_result",
          "data": {
            "text/plain": [
              "Bin\n",
              "0     9.81\n",
              "1     6.06\n",
              "2    11.02\n",
              "Name: UnemploymentRateDecember, dtype: float64"
            ]
          },
          "metadata": {},
          "execution_count": 23
        }
      ]
    },
    {
      "cell_type": "code",
      "source": [
        "plt.scatter([0,1,2],[aveunemploybin0,aveunemploybin1,aveunemploybin2])\n",
        "plt.grid()"
      ],
      "metadata": {
        "colab": {
          "base_uri": "https://localhost:8080/",
          "height": 265
        },
        "id": "-TxdGt0Q4hQC",
        "outputId": "7bc8d792-a43d-4f2c-ada0-b1fd97d7d663"
      },
      "execution_count": 47,
      "outputs": [
        {
          "output_type": "display_data",
          "data": {
            "text/plain": [
              "<Figure size 432x288 with 1 Axes>"
            ],
            "image/png": "[encoded data removed]"
          },
          "metadata": {
            "needs_background": "light"
          }
        }
      ]
    },
    {
      "cell_type": "markdown",
      "source": [
        "The plot matches the unemployment rate I calculated with pandas."
      ],
      "metadata": {
        "id": "QCky0agZ4lCw"
      }
    },
    {
      "cell_type": "code",
      "source": [
        "DF.groupby(\"Bin\")[\"UnemploymentRateDecember\"].count()"
      ],
      "metadata": {
        "colab": {
          "base_uri": "https://localhost:8080/"
        },
        "id": "nOCUHWraCrM4",
        "outputId": "39cd594a-1c33-4319-91e2-25243d85e986"
      },
      "execution_count": 24,
      "outputs": [
        {
          "output_type": "execute_result",
          "data": {
            "text/plain": [
              "Bin\n",
              "0    18\n",
              "1    68\n",
              "2     5\n",
              "Name: UnemploymentRateDecember, dtype: int64"
            ]
          },
          "metadata": {},
          "execution_count": 24
        }
      ]
    },
    {
      "cell_type": "code",
      "source": [
        "plt.scatter([0,1,2],[count0,count1,count2])\n",
        "plt.grid()"
      ],
      "metadata": {
        "colab": {
          "base_uri": "https://localhost:8080/",
          "height": 266
        },
        "id": "NhiJksBd6sRT",
        "outputId": "42da7d35-a982-4122-a3a5-4f51b2c57ce7"
      },
      "execution_count": 55,
      "outputs": [
        {
          "output_type": "display_data",
          "data": {
            "text/plain": [
              "<Figure size 432x288 with 1 Axes>"
            ],
            "image/png": "[encoded data removed]"
          },
          "metadata": {
            "needs_background": "light"
          }
        }
      ]
    },
    {
      "cell_type": "markdown",
      "source": [
        "The plot matches the count of records in each bin through pandas"
      ],
      "metadata": {
        "id": "BU3CQZrf6vXk"
      }
    },
    {
      "cell_type": "code",
      "source": [
        "DF.groupby(\"Bin\")[\"Year\"].max()"
      ],
      "metadata": {
        "colab": {
          "base_uri": "https://localhost:8080/"
        },
        "id": "Qh3i1reECvLk",
        "outputId": "e834f3f3-1fed-459b-ef05-b1cbc1e6593a"
      },
      "execution_count": 25,
      "outputs": [
        {
          "output_type": "execute_result",
          "data": {
            "text/plain": [
              "Bin\n",
              "0    2020\n",
              "1    2019\n",
              "2    1943\n",
              "Name: Year, dtype: object"
            ]
          },
          "metadata": {},
          "execution_count": 25
        }
      ]
    }
  ]
}