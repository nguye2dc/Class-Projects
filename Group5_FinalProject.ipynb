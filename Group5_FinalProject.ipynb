{
 "cells": [
  {
   "cell_type": "code",
   "execution_count": 1,
   "id": "71b0ac05-6810-416c-8311-b51d9599bf88",
   "metadata": {},
   "outputs": [],
   "source": [
    "import pyodbc\n",
    "import pandas as pd"
   ]
  },
  {
   "cell_type": "code",
   "execution_count": 2,
   "id": "6aae9612-d14a-46f9-9097-c196a72d7639",
   "metadata": {},
   "outputs": [],
   "source": [
    " def connectToDatabase():   \n",
    "    '''\n",
    "    Connect to the SQL Server. Note the insecurity here\n",
    "    '''\n",
    "    try:\n",
    "        conn = pyodbc.connect('Driver={SQL Server};'\n",
    "                              'Server=LCB-SQL.uccob.uc.edu\\BANA4143;'\n",
    "                              'Database=GroceryStoreSimulator;'\n",
    "                              'uid=nguye2dc;'   \n",
    "                              'pwd=P@ssword1;')\n",
    "    except Exception as e: \n",
    "        print(e)\n",
    "        conn = None\n",
    "    return conn"
   ]
  },
  {
   "cell_type": "code",
   "execution_count": 3,
   "id": "3c3e715a-3270-4745-b1a6-335818b8e8a5",
   "metadata": {},
   "outputs": [],
   "source": [
    "def getQuery():\n",
    "    '''\n",
    "    The query we use to extract data from our SQL Server\n",
    "    '''\n",
    "    # This can't go wrong so we don't need error handling\n",
    "    query =   \" SELECT P.Serving_Size AS SS,P.Calories, B.Brand \" + \\\n",
    "              \" FROM tProduct AS P \" + \\\n",
    "              \"INNER JOIN tBrand AS B \"+ \\\n",
    "              \"ON P.BrandID = B.BrandID \" + \\\n",
    "              \"ORDER BY B.Brand ASC\"\n",
    "    return query"
   ]
  },
  {
   "cell_type": "code",
   "execution_count": 4,
   "id": "7bb4b8b1-ccc7-4686-b7c0-57fc3f504f4a",
   "metadata": {},
   "outputs": [],
   "source": [
    "conn = connectToDatabase()"
   ]
  },
  {
   "cell_type": "code",
   "execution_count": 5,
   "id": "2938cd93-68bc-4df6-8ab5-867944649101",
   "metadata": {},
   "outputs": [],
   "source": [
    "#query2=    '''USE GroceryStoreSimulator\n",
    "              #SELECT P.Serving_Size AS SS , P.Calories, B.Brand \n",
    "              #FROM tProduct AS P\n",
    "              #INNER JOIN tBrand AS B \n",
    "              #ON P.BrandID = B.BrandID\n",
    "              #ORDER BY B.Brand ASC'''"
   ]
  },
  {
   "cell_type": "code",
   "execution_count": 6,
   "id": "acc87591-db32-45bb-8891-9c2670ef4386",
   "metadata": {},
   "outputs": [],
   "source": [
    "#DF = pd.read_sql(query2,conn)"
   ]
  },
  {
   "cell_type": "code",
   "execution_count": 7,
   "id": "4d97f010-12a6-4b2e-83b6-93a8e9584fa1",
   "metadata": {},
   "outputs": [
    {
     "name": "stderr",
     "output_type": "stream",
     "text": [
      "C:\\Users\\vippr\\anaconda3\\lib\\site-packages\\pandas\\io\\sql.py:761: UserWarning: pandas only support SQLAlchemy connectable(engine/connection) ordatabase string URI or sqlite3 DBAPI2 connectionother DBAPI2 objects are not tested, please consider using SQLAlchemy\n",
      "  warnings.warn(\n"
     ]
    }
   ],
   "source": [
    "SQLQueryDF = pd.read_sql(getQuery(), conn)\n"
   ]
  },
  {
   "cell_type": "code",
   "execution_count": 8,
   "id": "724ead8f-a678-405d-8bcc-794fe2ef6de1",
   "metadata": {},
   "outputs": [
    {
     "data": {
      "text/html": [
       "<div>\n",
       "<style scoped>\n",
       "    .dataframe tbody tr th:only-of-type {\n",
       "        vertical-align: middle;\n",
       "    }\n",
       "\n",
       "    .dataframe tbody tr th {\n",
       "        vertical-align: top;\n",
       "    }\n",
       "\n",
       "    .dataframe thead th {\n",
       "        text-align: right;\n",
       "    }\n",
       "</style>\n",
       "<table border=\"1\" class=\"dataframe\">\n",
       "  <thead>\n",
       "    <tr style=\"text-align: right;\">\n",
       "      <th></th>\n",
       "      <th>SS</th>\n",
       "      <th>Calories</th>\n",
       "      <th>Brand</th>\n",
       "    </tr>\n",
       "  </thead>\n",
       "  <tbody>\n",
       "    <tr>\n",
       "      <th>0</th>\n",
       "      <td>1.3</td>\n",
       "      <td>150.0</td>\n",
       "      <td>2-D-Extreme</td>\n",
       "    </tr>\n",
       "    <tr>\n",
       "      <th>1</th>\n",
       "      <td>8.0</td>\n",
       "      <td>120.0</td>\n",
       "      <td>A &amp; W</td>\n",
       "    </tr>\n",
       "    <tr>\n",
       "      <th>2</th>\n",
       "      <td>8.0</td>\n",
       "      <td>0.0</td>\n",
       "      <td>Acqua Panna</td>\n",
       "    </tr>\n",
       "    <tr>\n",
       "      <th>3</th>\n",
       "      <td>NaN</td>\n",
       "      <td>NaN</td>\n",
       "      <td>Baby Bottle Pop</td>\n",
       "    </tr>\n",
       "    <tr>\n",
       "      <th>4</th>\n",
       "      <td>0.5</td>\n",
       "      <td>130.0</td>\n",
       "      <td>Bakers &amp; Chefs</td>\n",
       "    </tr>\n",
       "    <tr>\n",
       "      <th>...</th>\n",
       "      <td>...</td>\n",
       "      <td>...</td>\n",
       "      <td>...</td>\n",
       "    </tr>\n",
       "    <tr>\n",
       "      <th>494</th>\n",
       "      <td>1.0</td>\n",
       "      <td>150.0</td>\n",
       "      <td>Zapp's</td>\n",
       "    </tr>\n",
       "    <tr>\n",
       "      <th>495</th>\n",
       "      <td>1.0</td>\n",
       "      <td>150.0</td>\n",
       "      <td>Zapp's</td>\n",
       "    </tr>\n",
       "    <tr>\n",
       "      <th>496</th>\n",
       "      <td>1.0</td>\n",
       "      <td>150.0</td>\n",
       "      <td>Zapp's</td>\n",
       "    </tr>\n",
       "    <tr>\n",
       "      <th>497</th>\n",
       "      <td>1.0</td>\n",
       "      <td>150.0</td>\n",
       "      <td>Zapp's</td>\n",
       "    </tr>\n",
       "    <tr>\n",
       "      <th>498</th>\n",
       "      <td>8.0</td>\n",
       "      <td>0.0</td>\n",
       "      <td>Zero</td>\n",
       "    </tr>\n",
       "  </tbody>\n",
       "</table>\n",
       "<p>499 rows × 3 columns</p>\n",
       "</div>"
      ],
      "text/plain": [
       "      SS  Calories            Brand\n",
       "0    1.3     150.0      2-D-Extreme\n",
       "1    8.0     120.0            A & W\n",
       "2    8.0       0.0      Acqua Panna\n",
       "3    NaN       NaN  Baby Bottle Pop\n",
       "4    0.5     130.0   Bakers & Chefs\n",
       "..   ...       ...              ...\n",
       "494  1.0     150.0           Zapp's\n",
       "495  1.0     150.0           Zapp's\n",
       "496  1.0     150.0           Zapp's\n",
       "497  1.0     150.0           Zapp's\n",
       "498  8.0       0.0             Zero\n",
       "\n",
       "[499 rows x 3 columns]"
      ]
     },
     "execution_count": 8,
     "metadata": {},
     "output_type": "execute_result"
    }
   ],
   "source": [
    "SQLQueryDF"
   ]
  },
  {
   "cell_type": "code",
   "execution_count": 9,
   "id": "01c3faf5-f832-4f4c-8dbf-6f724e95dd32",
   "metadata": {},
   "outputs": [],
   "source": [
    "import matplotlib.pyplot as plt"
   ]
  },
  {
   "cell_type": "code",
   "execution_count": 13,
   "id": "cff7f1c9-398a-468e-9b26-ef4f4c0a6799",
   "metadata": {},
   "outputs": [],
   "source": [
    "aveCal=SQLQueryDF.groupby(\"Brand\")[\"Calories\"].mean().round(2)"
   ]
  },
  {
   "cell_type": "code",
   "execution_count": 39,
   "id": "54e308d3-13e7-4909-a218-2d7b374aae95",
   "metadata": {},
   "outputs": [
    {
     "data": {
      "text/plain": [
       "Brand\n",
       "2-D-Extreme                   150.0\n",
       "A & W                         120.0\n",
       "Acqua Panna                     0.0\n",
       "Baby Bottle Pop                 NaN\n",
       "Bakers & Chefs                130.0\n",
       "                              ...  \n",
       "Weight Watchers               100.0\n",
       "Weight Watchers Smart Ones    260.0\n",
       "Yoplait                       190.0\n",
       "Zapp's                        150.0\n",
       "Zero                            0.0\n",
       "Name: Calories, Length: 190, dtype: float64"
      ]
     },
     "execution_count": 39,
     "metadata": {},
     "output_type": "execute_result"
    }
   ],
   "source": [
    "SQLQueryDF.groupby(\"Brand\")[\"Calories\"].max()"
   ]
  },
  {
   "cell_type": "code",
   "execution_count": 27,
   "id": "656fa15d-4d2b-41df-ad43-dd552c8f7312",
   "metadata": {},
   "outputs": [],
   "source": [
    "sortedDF=SQLQueryDF[(SQLQueryDF['Calories'] >= 250)]"
   ]
  },
  {
   "cell_type": "code",
   "execution_count": 33,
   "id": "3a8b5e06-8bb9-4d2e-a345-d13b4fe8f7e4",
   "metadata": {},
   "outputs": [],
   "source": [
    "sortedCalDF=sortedDF.groupby(\"Brand\")[\"Calories\"].mean().round(2)"
   ]
  },
  {
   "cell_type": "code",
   "execution_count": 34,
   "id": "375aeab1-211c-49a3-a6cc-8c06920d150c",
   "metadata": {},
   "outputs": [
    {
     "data": {
      "text/plain": [
       "Brand\n",
       "Blumetti's                            270.00\n",
       "Cloetta                               310.00\n",
       "Cup Noodles                           300.00\n",
       "Doritos Black Pepper Jack             260.00\n",
       "Eating Right                          307.50\n",
       "Healthy Choice                        380.00\n",
       "Healthy Choice Café Steamers          302.50\n",
       "Healthy Choice Complete Selections    326.67\n",
       "Hershey's                             400.00\n",
       "Kraft                                 270.00\n",
       "Maruchan Instant Lunch                290.00\n",
       "Nissin Chow                           250.00\n",
       "Planters                              335.00\n",
       "South Beach Diet                      275.00\n",
       "Starkist                              250.00\n",
       "Weight Watchers Smart Ones            255.00\n",
       "Name: Calories, dtype: float64"
      ]
     },
     "execution_count": 34,
     "metadata": {},
     "output_type": "execute_result"
    }
   ],
   "source": [
    "sortedCalDF"
   ]
  },
  {
   "cell_type": "code",
   "execution_count": 37,
   "id": "7c35a90b-5944-4840-a673-f40238845d6c",
   "metadata": {},
   "outputs": [
    {
     "data": {
      "text/plain": [
       "<AxesSubplot:xlabel='Brand'>"
      ]
     },
     "execution_count": 37,
     "metadata": {},
     "output_type": "execute_result"
    },
    {
     "data": {
      "image/png": "[encoded data removed]",
      "text/plain": [
       "<Figure size 432x288 with 1 Axes>"
      ]
     },
     "metadata": {
      "needs_background": "light"
     },
     "output_type": "display_data"
    }
   ],
   "source": [
    "sortedCalDF.plot.bar(ylim=(200,420))"
   ]
  },
  {
   "cell_type": "markdown",
   "id": "5846ab7d-a60b-4b52-8179-9b4687d54f71",
   "metadata": {},
   "source": [
    "Intepretaion and Analysis: To import the data, we first connected to SQL Server through SSMS login credentials. We imported the Brand table and Product Table from GroceryStoreSimulator to get the serving size as well as calories columns.\n",
    "We wanted to see the relationship between brands and calories. We calculated the average calories per brand as well as finding the maximum calories per brand.\n",
    "We realized that we could not include all the Brands into our graph because there are too many brands to display clearly on the x-axis. Looking at maximum calories per brand, we decided to only include brands that have 250 calories or more.\n",
    "Our final bar graph shows the average calories by brand of the brands that have more than 250 calories. Upon inspection, we noticed that Hershey's has the highest calories with 400 and Nissin Chow and Starkist has the lowest calories of Brands with 250. \n",
    "The data we looked at also showed that there are only 3 brands that have more than 325 calories. This indicates that the majority of the brands in the GroceryStoreSimulator have less than 325 calories per product. \n"
   ]
  },
  {
   "cell_type": "code",
   "execution_count": null,
   "id": "3777913f-fee1-4cdd-83e8-910555e75222",
   "metadata": {},
   "outputs": [],
   "source": []
  }
 ],
 "metadata": {
  "kernelspec": {
   "display_name": "Python 3 (ipykernel)",
   "language": "python",
   "name": "python3"
  },
  "language_info": {
   "codemirror_mode": {
    "name": "ipython",
    "version": 3
   },
   "file_extension": ".py",
   "mimetype": "text/x-python",
   "name": "python",
   "nbconvert_exporter": "python",
   "pygments_lexer": "ipython3",
   "version": "3.9.12"
  }
 },
 "nbformat": 4,
 "nbformat_minor": 5
}
